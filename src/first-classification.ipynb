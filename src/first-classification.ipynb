{
 "cells": [
  {
   "cell_type": "markdown",
   "id": "mobile-insertion",
   "metadata": {},
   "source": [
    "# Première classification\n",
    "\n",
    "L'objectif ici est d'utiliser un premier classifier. Pour commencer nous prendrons SVM qui obtient souvent de bons résultats sur les données textuelles.\n",
    "\n",
    "Nous pouvons donc, pour simplifier, créer un jeu d'apprentissage et un jeu de test et évaluer le résultat d'un classifieur SVM placé dans un pipeline."
   ]
  },
  {
   "cell_type": "code",
   "execution_count": 1,
   "id": "brutal-blanket",
   "metadata": {},
   "outputs": [],
   "source": [
    "from pretraitement import TextPreTraitement\n",
    "from clean import clean_claimKG\n",
    "from classification import trueVSfalse, trueFalseVSmixture, trueVSfalseVSmixture, cut_data\n",
    "from utilities import plot_confusion_matrix\n",
    "\n",
    "import pandas as pd\n",
    "from sklearn.svm import SVC\n",
    "from sklearn.model_selection import train_test_split\n",
    "from sklearn.pipeline import Pipeline\n",
    "from sklearn.feature_extraction.text import TfidfVectorizer\n",
    "from sklearn.metrics import accuracy_score, confusion_matrix, classification_report\n",
    "\n",
    "from sklearn.neighbors import KNeighborsClassifier as KNN\n",
    "from sklearn.linear_model import LogisticRegression"
   ]
  },
  {
   "cell_type": "code",
   "execution_count": null,
   "id": "generic-imagination",
   "metadata": {},
   "outputs": [],
   "source": [
    "file_name = \"../data/claimKG.csv\"\n",
    "origin = pd.read_csv(file_name)"
   ]
  },
  {
   "cell_type": "code",
   "execution_count": null,
   "id": "hindu-provider",
   "metadata": {},
   "outputs": [],
   "source": [
    "origin = clean_claimKG(origin, verbose=False, inplace=True)\n",
    "\n",
    "kg = origin.copy()"
   ]
  },
  {
   "cell_type": "markdown",
   "id": "exceptional-butterfly",
   "metadata": {},
   "source": [
    "Pour un premier test, nous allons prendre comme `X` les assertions et `Y` les valeurs de véracité.\n",
    "\n",
    "Note: les valeurs de véracité ne sont pour l'instant pas disponible, à voir ou les trouver.\n",
    "\n",
    "Donc, pour l'instant, on ne garde que les lignes qu'on peut exploiter."
   ]
  },
  {
   "cell_type": "code",
   "execution_count": null,
   "id": "upper-finish",
   "metadata": {},
   "outputs": [],
   "source": [
    "kg = trueVSfalse(origin)\n",
    "labels=['False','True']\n",
    "print(kg['ratingValue'].value_counts())"
   ]
  },
  {
   "cell_type": "code",
   "execution_count": 19,
   "id": "popular-welsh",
   "metadata": {},
   "outputs": [
    {
     "name": "stdout",
     "output_type": "stream",
     "text": [
      "0    4584\n",
      "1    4584\n",
      "Name: ratingValue, dtype: int64\n"
     ]
    }
   ],
   "source": [
    "kg = cut_data(kg)\n",
    "print(kg['ratingValue'].value_counts())"
   ]
  },
  {
   "cell_type": "markdown",
   "id": "corrected-gravity",
   "metadata": {},
   "source": [
    "Création d'un jeu d'apprentissage et de test"
   ]
  },
  {
   "cell_type": "code",
   "execution_count": 20,
   "id": "intensive-bidding",
   "metadata": {},
   "outputs": [],
   "source": [
    "X=kg['claimReview_claimReviewed']\n",
    "y=kg['ratingValue']\n",
    "\n",
    "X_train,X_test,y_train,y_test=train_test_split(X, y, \n",
    "                                               train_size=0.7 ,\n",
    "                                               random_state=30,stratify=y)"
   ]
  },
  {
   "cell_type": "code",
   "execution_count": 6,
   "id": "central-double",
   "metadata": {},
   "outputs": [],
   "source": [
    "vectorizer = TfidfVectorizer(\n",
    "            lowercase=False,\n",
    "            ngram_range=(1,2),\n",
    "            tokenizer=None,\n",
    "            preprocessor=lambda x:x,\n",
    "            min_df=0.01, \n",
    "            max_df=0.9)"
   ]
  },
  {
   "cell_type": "markdown",
   "id": "informal-virus",
   "metadata": {},
   "source": [
    "Création du pipeline"
   ]
  },
  {
   "cell_type": "code",
   "execution_count": 21,
   "id": "proper-possible",
   "metadata": {},
   "outputs": [
    {
     "name": "stdout",
     "output_type": "stream",
     "text": [
      "pipeline créé\n"
     ]
    }
   ],
   "source": [
    "pipe = Pipeline([(\"cleaner\", TextPreTraitement(stopword=True)),\n",
    "                 (\"count_vectorizer\", vectorizer),\n",
    "                 (\"SVM\", LogisticRegression(solver='lbfgs'))])\n",
    "pipe.fit(X_train,y_train)\n",
    "\n",
    "print(\"pipeline créé\")"
   ]
  },
  {
   "cell_type": "markdown",
   "id": "fitted-default",
   "metadata": {},
   "source": [
    "On teste le modèle"
   ]
  },
  {
   "cell_type": "code",
   "execution_count": 22,
   "id": "grateful-loading",
   "metadata": {
    "scrolled": false
   },
   "outputs": [
    {
     "name": "stdout",
     "output_type": "stream",
     "text": [
      "train accuracy: 0.7026647966339411\n",
      "test accuracy: 0.6441294074881861\n"
     ]
    }
   ],
   "source": [
    "y_pred = pipe.predict(X_test)\n",
    "\n",
    "print(\"train accuracy:\",accuracy_score(y_train, pipe.predict(X_train)))\n",
    "print(\"test accuracy:\",accuracy_score(y_test, y_pred))\n"
   ]
  },
  {
   "cell_type": "code",
   "execution_count": 23,
   "id": "earned-reach",
   "metadata": {},
   "outputs": [
    {
     "name": "stdout",
     "output_type": "stream",
     "text": [
      "[[1195  180]\n",
      " [ 799  577]]\n"
     ]
    },
    {
     "data": {
      "image/png": "[encoded data removed]",
      "text/plain": [
       "<Figure size 576x360 with 2 Axes>"
      ]
     },
     "metadata": {},
     "output_type": "display_data"
    },
    {
     "name": "stdout",
     "output_type": "stream",
     "text": [
      "              precision    recall  f1-score   support\n",
      "\n",
      "           0       0.60      0.87      0.71      1375\n",
      "           1       0.76      0.42      0.54      1376\n",
      "\n",
      "    accuracy                           0.64      2751\n",
      "   macro avg       0.68      0.64      0.63      2751\n",
      "weighted avg       0.68      0.64      0.63      2751\n",
      "\n"
     ]
    }
   ],
   "source": [
    "confMatrix = confusion_matrix(y_test, y_pred)\n",
    "print(confMatrix)\n",
    "plot_confusion_matrix(confMatrix, labels)\n",
    "\n",
    "print(classification_report(y_test, y_pred))"
   ]
  },
  {
   "cell_type": "code",
   "execution_count": null,
   "id": "applied-suite",
   "metadata": {},
   "outputs": [],
   "source": []
  }
 ],
 "metadata": {
  "kernelspec": {
   "display_name": "Python 3",
   "language": "python",
   "name": "python3"
  },
  "language_info": {
   "codemirror_mode": {
    "name": "ipython",
    "version": 3
   },
   "file_extension": ".py",
   "mimetype": "text/x-python",
   "name": "python",
   "nbconvert_exporter": "python",
   "pygments_lexer": "ipython3",
   "version": "3.8.6"
  }
 },
 "nbformat": 4,
 "nbformat_minor": 5
}
